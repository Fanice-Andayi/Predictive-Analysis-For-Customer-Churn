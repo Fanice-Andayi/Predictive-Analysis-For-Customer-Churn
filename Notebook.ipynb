{
 "cells": [
  {
   "cell_type": "markdown",
   "metadata": {},
   "source": [
    "## PREDICTIVE ANALYSIS FOR CUSTOMER CHURN IN SYRIATEL TELECOM DATA\n"
   ]
  },
  {
   "cell_type": "markdown",
   "metadata": {},
   "source": [
    "## NOTEBOOK STRUCTURE\n",
    "\n",
    "1.Business Understanding\n",
    "\n",
    "2.Data Understandiing\n",
    "\n",
    "3.Data Cleaning\n",
    "\n",
    "4.Exploratory Data Analysis\n",
    "\n",
    "5.Data Preparation\n",
    "\n",
    "6.Modelling\n",
    "\n",
    "7.Evaluation\n",
    "\n",
    "8.Conclusion ,Recommendations and Nextsteps."
   ]
  },
  {
   "cell_type": "markdown",
   "metadata": {},
   "source": [
    "## 1.BUSINESS UNDERSTANDING\n"
   ]
  },
  {
   "cell_type": "markdown",
   "metadata": {},
   "source": [
    "## 2.DATA UNDERSTANDING"
   ]
  },
  {
   "cell_type": "markdown",
   "metadata": {},
   "source": [
    "## 3.DATA CLEANING"
   ]
  },
  {
   "cell_type": "markdown",
   "metadata": {},
   "source": [
    "## 4.EXPLORATORY DATA ANALYSIS"
   ]
  },
  {
   "cell_type": "markdown",
   "metadata": {},
   "source": [
    "## 5.DATA PREPROCESSING\n"
   ]
  },
  {
   "cell_type": "markdown",
   "metadata": {},
   "source": [
    "## 6.MODELING"
   ]
  },
  {
   "cell_type": "markdown",
   "metadata": {},
   "source": [
    "## 7.EVALUATION"
   ]
  },
  {
   "cell_type": "markdown",
   "metadata": {},
   "source": [
    "## 8.CONCLUSION\n",
    "### Recommendations\n",
    "### Next steps"
   ]
  }
 ],
 "metadata": {
  "language_info": {
   "name": "python"
  }
 },
 "nbformat": 4,
 "nbformat_minor": 2
}
